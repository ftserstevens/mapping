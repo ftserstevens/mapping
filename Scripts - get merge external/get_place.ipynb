{
 "cells": [
  {
   "cell_type": "code",
   "execution_count": 1,
   "id": "a1438695-011c-4cf3-955e-76f6cac8d347",
   "metadata": {},
   "outputs": [],
   "source": [
    "# import the module\n",
    "import tweepy\n",
    "from tw_keys import consumer_key, consumer_secret, access_token, access_token_secret\n",
    "import json\n",
    "import pandas as pd\n",
    "import os\n",
    "from tqdm.notebook import tqdm\n",
    "\n",
    "from pathlib import Path\n",
    "\n",
    "os.chdir(\"/Users/francois/Documents/tweet_woc/\")\n",
    "\n",
    "\n"
   ]
  },
  {
   "cell_type": "code",
   "execution_count": 7,
   "id": "29281bca-d217-42a3-afa8-36dafe10f187",
   "metadata": {},
   "outputs": [],
   "source": [
    "\n",
    "# authorization of consumer key and consumer secret\n",
    "auth = tweepy.OAuthHandler(consumer_key, consumer_secret)\n",
    "\n",
    "# set access to user's access key and access secret\n",
    "auth.set_access_token(access_token, access_token_secret)\n",
    "\n",
    "# calling the api\n",
    "api = tweepy.API(auth, parser=tweepy.parsers.JSONParser(), wait_on_rate_limit=True)\n",
    "\n",
    "\n"
   ]
  },
  {
   "cell_type": "code",
   "execution_count": 3,
   "id": "7136cd37-73a9-4115-8042-6e8703900948",
   "metadata": {},
   "outputs": [
    {
     "name": "stdout",
     "output_type": "stream",
     "text": [
      "5513 starting df\n",
      "1651 total geo ids\n",
      "17 remain to be processed\n"
     ]
    }
   ],
   "source": [
    "df = pd.read_csv(\"./input/tweets_jan_minmonth5/BOT_GEO_BERT_Corona_JAN1_2023.csv\")\n",
    "df_done = pd.read_csv(\"./output/geoid_done.csv\")\n",
    "df_done2 = pd.read_csv(\"./output/geoid_done2.csv\")\n",
    "print(len(df), \"starting df\")\n",
    "print(len(set(df.geo)), \"total geo ids\")\n",
    "geo_place_id_COVID_df_03_list = set(df.geo) - set(df_done.x) - set(df_done2.x)\n",
    "print(len(geo_place_id_COVID_df_03_list), \"remain to be processed\")\n",
    "#no match for \"3d1da0ef32c06f83\"\n"
   ]
  },
  {
   "cell_type": "code",
   "execution_count": null,
   "id": "422677e5-61a4-4105-9120-1113d67eb406",
   "metadata": {},
   "outputs": [],
   "source": [
    "#Loop to get the places for every id.\n",
    "with open('./output/geo_results.json', 'a') as json_data:\n",
    "    #if var_exists == False:\n",
    "    json_data.write(\"[\")\n",
    "    for geo_id in tqdm(geo_place_id_COVID_df_03_list):\n",
    "        print(geo_id, \"starting\")\n",
    "        places = api.geo_id(geo_id)\n",
    "        print(places)\n",
    "        json.dump(places, json_data)\n",
    "        json_data.write(\",\")\n",
    "        print(geo_id, \"done\")\n",
    "    json_data.write(\"]\")\n",
    "    json_data.close()\n",
    "\n",
    "\n",
    "# add \"[]\" in the file \n",
    "# & remove \",\"\n",
    "#erease file when starting over \"a\" is appending!"
   ]
  }
 ],
 "metadata": {
  "kernelspec": {
   "display_name": "woc",
   "language": "python",
   "name": "python3"
  },
  "language_info": {
   "codemirror_mode": {
    "name": "ipython",
    "version": 3
   },
   "file_extension": ".py",
   "mimetype": "text/x-python",
   "name": "python",
   "nbconvert_exporter": "python",
   "pygments_lexer": "ipython3",
   "version": "3.11.2 (v3.11.2:878ead1ac1, Feb  7 2023, 10:02:41) [Clang 13.0.0 (clang-1300.0.29.30)]"
  },
  "vscode": {
   "interpreter": {
    "hash": "61bd22bacafa0d6be097bd72c785085865000c401efd5957a1a6fc2362facd26"
   }
  }
 },
 "nbformat": 4,
 "nbformat_minor": 5
}
