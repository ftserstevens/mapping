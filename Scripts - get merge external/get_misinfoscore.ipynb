{
 "cells": [
  {
   "cell_type": "code",
   "execution_count": null,
   "metadata": {},
   "outputs": [],
   "source": [
    "#https://rapidapi.com/mescalcapi-mescalcapi-default/api/mescalc/ get misinformation score.\n"
   ]
  },
  {
   "cell_type": "code",
   "execution_count": 24,
   "metadata": {},
   "outputs": [],
   "source": [
    "import requests\n",
    "import pandas as pd\n",
    "import numpy as np\n",
    "import json\n",
    "from tqdm import tqdm\n",
    "from tw_keys import rapidapi_key"
   ]
  },
  {
   "cell_type": "code",
   "execution_count": 25,
   "metadata": {},
   "outputs": [],
   "source": [
    "def get_mis(author_id):\n",
    "\turl = \"https://mescalc.p.rapidapi.com/account/\" + str(author_id)\n",
    "\n",
    "\theaders = {\n",
    "\t\t\"X-RapidAPI-Key\": rapidapi_key, #API Key inforamtion here\n",
    "\t\t\"X-RapidAPI-Host\": \"mescalc.p.rapidapi.com\"\n",
    "\t}\n",
    "\n",
    "\tresponse = requests.get(url, headers=headers)\n",
    "\treturn(response.json())\n",
    "\n"
   ]
  },
  {
   "cell_type": "code",
   "execution_count": null,
   "metadata": {},
   "outputs": [],
   "source": [
    "df = pd.read_csv(\"../tweets_inputdata/tweets_jan_minmonth5/BOT_GEO_BERT_Corona_JAN1_2023.csv\")\n",
    "authors = df.author_id.unique()\n",
    "print(len(authors))"
   ]
  },
  {
   "cell_type": "code",
   "execution_count": null,
   "metadata": {},
   "outputs": [],
   "source": [
    "with open('../Scripts - get merge external/external_data/misinformation_results.json', 'a') as json_data:\n",
    "    json_data.write(\"[\")\n",
    "    for i in tqdm(authors):\n",
    "        result = get_mis(i)\n",
    "        json.dump(result, json_data, indent = 4)\n",
    "        json_data.write(\",\")\n",
    "    json_data.write(\"]\")\n",
    "json_data.close()\n"
   ]
  }
 ],
 "metadata": {
  "kernelspec": {
   "display_name": "Python 3",
   "language": "python",
   "name": "python3"
  },
  "language_info": {
   "codemirror_mode": {
    "name": "ipython",
    "version": 3
   },
   "file_extension": ".py",
   "mimetype": "text/x-python",
   "name": "python",
   "nbconvert_exporter": "python",
   "pygments_lexer": "ipython3",
   "version": "3.9.6 (default, Feb  3 2024, 15:58:28) \n[Clang 15.0.0 (clang-1500.3.9.4)]"
  },
  "orig_nbformat": 4,
  "vscode": {
   "interpreter": {
    "hash": "31f2aee4e71d21fbe5cf8b01ff0e069b9275f58929596ceb00d14d90e3e16cd6"
   }
  }
 },
 "nbformat": 4,
 "nbformat_minor": 2
}
