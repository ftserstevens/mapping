{
 "cells": [
  {
   "cell_type": "code",
   "execution_count": null,
   "id": "08528be8-49b6-49af-98b4-6bc589d86a41",
   "metadata": {},
   "outputs": [],
   "source": [
    "from m3inference import M3Twitter\n",
    "import pprint\n",
    "import pandas as pd\n",
    "import json\n",
    "import os\n",
    "\n",
    "\n",
    "os.chdir(\"/Users/francois/Documents/tweet_woc/\")"
   ]
  },
  {
   "cell_type": "code",
   "execution_count": null,
   "id": "d3a1aa9e-15b8-4f0c-b184-370aca8407f2",
   "metadata": {},
   "outputs": [],
   "source": [
    "m3twitter=M3Twitter(cache_dir=\"twitter_cache\") #Change the cache_dir parameter to control where profile images are downloaded\n"
   ]
  },
  {
   "cell_type": "code",
   "execution_count": null,
   "id": "8cfb6e49-be4b-4632-ac20-1110ebc03b40",
   "metadata": {},
   "outputs": [],
   "source": [
    "df = pd.read_json('./input/tweets_jan_minmonth5/df_full_Corona_JAN1_2023.json', dtype={'id_str': 'int64'}) #Change here to run the script on right file\n",
    "\n",
    "#Documents/Python/data_GEO_BOT_M3_BERT/input/Pretest_1/df_full_Corona_NOV3.json\n",
    "\n",
    "df.to_json(\"./scripts/json_lines.jsonl\", orient=\"records\", lines=True)"
   ]
  },
  {
   "cell_type": "code",
   "execution_count": null,
   "id": "3fd9e746-0a4c-4f4a-9ff8-85d4ebefc9e4",
   "metadata": {},
   "outputs": [],
   "source": [
    "m3twitter.transform_jsonl(input_file=\"./scripts/json_lines.jsonl\",output_file=\"./scripts/twitter_cache/m3_input.jsonl\")\n"
   ]
  },
  {
   "cell_type": "code",
   "execution_count": null,
   "id": "19622e29-f236-41ea-adb6-7f88e4f6ef0f",
   "metadata": {},
   "outputs": [],
   "source": [
    "pred2 = m3twitter.infer(\"./scripts/twitter_cache/m3_input.jsonl\", output_format = \"dataframe\")"
   ]
  },
  {
   "cell_type": "code",
   "execution_count": null,
   "id": "86fc716e-9aa5-48f8-ba06-08f257470426",
   "metadata": {},
   "outputs": [],
   "source": [
    "print(pred2.nunique())\n",
    "pred2"
   ]
  },
  {
   "cell_type": "code",
   "execution_count": 7,
   "id": "9738e20a-8713-4f7f-86c9-e79e1348b4f0",
   "metadata": {},
   "outputs": [],
   "source": [
    "pred2.to_csv(\"./output/m3_results.csv\")"
   ]
  }
 ],
 "metadata": {
  "kernelspec": {
   "display_name": "woc",
   "language": "python",
   "name": "python3"
  },
  "language_info": {
   "codemirror_mode": {
    "name": "ipython",
    "version": 3
   },
   "file_extension": ".py",
   "mimetype": "text/x-python",
   "name": "python",
   "nbconvert_exporter": "python",
   "pygments_lexer": "ipython3",
   "version": "3.11.2 (v3.11.2:878ead1ac1, Feb  7 2023, 10:02:41) [Clang 13.0.0 (clang-1300.0.29.30)]"
  },
  "vscode": {
   "interpreter": {
    "hash": "61bd22bacafa0d6be097bd72c785085865000c401efd5957a1a6fc2362facd26"
   }
  }
 },
 "nbformat": 4,
 "nbformat_minor": 5
}
